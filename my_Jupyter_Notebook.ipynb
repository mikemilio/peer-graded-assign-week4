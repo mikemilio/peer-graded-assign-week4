{
 "cells": [
  {
   "cell_type": "markdown",
   "metadata": {},
   "source": [
    "<center>\n",
    "    <img src=\"https://s3-api.us-geo.objectstorage.softlayer.net/cf-courses-data/CognitiveClass/Logos/organization_logo/organization_logo.png\" width=\"300\" alt=\"cognitiveclass.ai logo\"  />\n",
    "</center>\n"
   ]
  },
  {
   "cell_type": "markdown",
   "metadata": {},
   "source": [
    "#### Add your code below following the instructions given in the course\n"
   ]
  },
  {
   "cell_type": "markdown",
   "metadata": {},
   "source": [
    "# My Jupyter Notebook on IBM Watson Studio"
   ]
  },
  {
   "cell_type": "markdown",
   "metadata": {},
   "source": [
    "**Michael Milioritsas**<br>\n",
    "Civil Engineer"
   ]
  },
  {
   "cell_type": "markdown",
   "metadata": {},
   "source": [
    "*I'm interested in Data Science because I like to extract useful knowledge and recognize patterns from data.*"
   ]
  },
  {
   "cell_type": "markdown",
   "metadata": {},
   "source": [
    "### The code below displays the result of a summation."
   ]
  },
  {
   "cell_type": "code",
   "execution_count": 1,
   "metadata": {},
   "outputs": [
    {
     "data": {
      "text/plain": [
       "2"
      ]
     },
     "execution_count": 1,
     "metadata": {},
     "output_type": "execute_result"
    }
   ],
   "source": [
    "1+1 "
   ]
  },
  {
   "cell_type": "markdown",
   "metadata": {},
   "source": [
    "This is a [hyperlink to coursera](https://www.coursera.org/). \n",
    "\n",
    "Go to the <a href=\"https://www.ibm.com/gr-en\">IBM site</a>.\n",
    "\n",
    "~A sentence with strikethrough~.\n",
    "\n",
    "My shopping List\n",
    "* Apples\n",
    "* Oranges\n",
    "* Potatoes\n",
    "\n",
    "My numbered shopping list\n",
    "<ol>\n",
    "    <li>Apples</li>\n",
    "    <li>Oranges</li>\n",
    "    <li>Lemons</li>\n",
    "</ol>\n",
    "\n",
    "Highlighting code: `print(\"Hello World\")`\n",
    "\n",
    "***\n",
    "\n",
    "| id | Gender | Height (cm) |\n",
    "| ----- | ----- | ----- |\n",
    "| 1 | M | 175 |\n",
    "| 2 | F | 168 |\n",
    "| 3 | F | 169 |\n",
    "\n"
   ]
  }
 ],
 "metadata": {
  "kernelspec": {
   "display_name": "Python",
   "language": "python",
   "name": "conda-env-python-py"
  },
  "language_info": {
   "codemirror_mode": {
    "name": "ipython",
    "version": 3
   },
   "file_extension": ".py",
   "mimetype": "text/x-python",
   "name": "python",
   "nbconvert_exporter": "python",
   "pygments_lexer": "ipython3",
   "version": "3.7.12"
  }
 },
 "nbformat": 4,
 "nbformat_minor": 4
}
